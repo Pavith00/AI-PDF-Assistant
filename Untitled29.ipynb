{
  "cells": [
    {
      "cell_type": "code",
      "execution_count": null,
      "metadata": {
        "colab": {
          "base_uri": "https://localhost:8080/"
        },
        "id": "HY8rIUz7mwyH",
        "outputId": "182c3a4d-d442-44d1-c9e8-c40cb610c816"
      },
      "outputs": [
        {
          "output_type": "stream",
          "name": "stdout",
          "text": [
            "Collecting streamlit\n",
            "  Downloading streamlit-1.45.1-py3-none-any.whl.metadata (8.9 kB)\n",
            "Collecting PyPDF2\n",
            "  Downloading pypdf2-3.0.1-py3-none-any.whl.metadata (6.8 kB)\n",
            "Requirement already satisfied: altair<6,>=4.0 in /usr/local/lib/python3.11/dist-packages (from streamlit) (5.5.0)\n",
            "Requirement already satisfied: blinker<2,>=1.5.0 in /usr/local/lib/python3.11/dist-packages (from streamlit) (1.9.0)\n",
            "Requirement already satisfied: cachetools<6,>=4.0 in /usr/local/lib/python3.11/dist-packages (from streamlit) (5.5.2)\n",
            "Requirement already satisfied: click<9,>=7.0 in /usr/local/lib/python3.11/dist-packages (from streamlit) (8.1.8)\n",
            "Requirement already satisfied: numpy<3,>=1.23 in /usr/local/lib/python3.11/dist-packages (from streamlit) (2.0.2)\n",
            "Requirement already satisfied: packaging<25,>=20 in /usr/local/lib/python3.11/dist-packages (from streamlit) (24.2)\n",
            "Requirement already satisfied: pandas<3,>=1.4.0 in /usr/local/lib/python3.11/dist-packages (from streamlit) (2.2.2)\n",
            "Requirement already satisfied: pillow<12,>=7.1.0 in /usr/local/lib/python3.11/dist-packages (from streamlit) (11.2.1)\n",
            "Requirement already satisfied: protobuf<7,>=3.20 in /usr/local/lib/python3.11/dist-packages (from streamlit) (5.29.4)\n",
            "Requirement already satisfied: pyarrow>=7.0 in /usr/local/lib/python3.11/dist-packages (from streamlit) (18.1.0)\n",
            "Requirement already satisfied: requests<3,>=2.27 in /usr/local/lib/python3.11/dist-packages (from streamlit) (2.32.3)\n",
            "Requirement already satisfied: tenacity<10,>=8.1.0 in /usr/local/lib/python3.11/dist-packages (from streamlit) (9.1.2)\n",
            "Requirement already satisfied: toml<2,>=0.10.1 in /usr/local/lib/python3.11/dist-packages (from streamlit) (0.10.2)\n",
            "Requirement already satisfied: typing-extensions<5,>=4.4.0 in /usr/local/lib/python3.11/dist-packages (from streamlit) (4.13.2)\n",
            "Collecting watchdog<7,>=2.1.5 (from streamlit)\n",
            "  Downloading watchdog-6.0.0-py3-none-manylinux2014_x86_64.whl.metadata (44 kB)\n",
            "\u001b[2K     \u001b[90m━━━━━━━━━━━━━━━━━━━━━━━━━━━━━━━━━━━━━━━\u001b[0m \u001b[32m44.3/44.3 kB\u001b[0m \u001b[31m847.8 kB/s\u001b[0m eta \u001b[36m0:00:00\u001b[0m\n",
            "\u001b[?25hRequirement already satisfied: gitpython!=3.1.19,<4,>=3.0.7 in /usr/local/lib/python3.11/dist-packages (from streamlit) (3.1.44)\n",
            "Collecting pydeck<1,>=0.8.0b4 (from streamlit)\n",
            "  Downloading pydeck-0.9.1-py2.py3-none-any.whl.metadata (4.1 kB)\n",
            "Requirement already satisfied: tornado<7,>=6.0.3 in /usr/local/lib/python3.11/dist-packages (from streamlit) (6.4.2)\n",
            "Requirement already satisfied: jinja2 in /usr/local/lib/python3.11/dist-packages (from altair<6,>=4.0->streamlit) (3.1.6)\n",
            "Requirement already satisfied: jsonschema>=3.0 in /usr/local/lib/python3.11/dist-packages (from altair<6,>=4.0->streamlit) (4.23.0)\n",
            "Requirement already satisfied: narwhals>=1.14.2 in /usr/local/lib/python3.11/dist-packages (from altair<6,>=4.0->streamlit) (1.38.2)\n",
            "Requirement already satisfied: gitdb<5,>=4.0.1 in /usr/local/lib/python3.11/dist-packages (from gitpython!=3.1.19,<4,>=3.0.7->streamlit) (4.0.12)\n",
            "Requirement already satisfied: python-dateutil>=2.8.2 in /usr/local/lib/python3.11/dist-packages (from pandas<3,>=1.4.0->streamlit) (2.9.0.post0)\n",
            "Requirement already satisfied: pytz>=2020.1 in /usr/local/lib/python3.11/dist-packages (from pandas<3,>=1.4.0->streamlit) (2025.2)\n",
            "Requirement already satisfied: tzdata>=2022.7 in /usr/local/lib/python3.11/dist-packages (from pandas<3,>=1.4.0->streamlit) (2025.2)\n",
            "Requirement already satisfied: charset-normalizer<4,>=2 in /usr/local/lib/python3.11/dist-packages (from requests<3,>=2.27->streamlit) (3.4.2)\n",
            "Requirement already satisfied: idna<4,>=2.5 in /usr/local/lib/python3.11/dist-packages (from requests<3,>=2.27->streamlit) (3.10)\n",
            "Requirement already satisfied: urllib3<3,>=1.21.1 in /usr/local/lib/python3.11/dist-packages (from requests<3,>=2.27->streamlit) (2.4.0)\n",
            "Requirement already satisfied: certifi>=2017.4.17 in /usr/local/lib/python3.11/dist-packages (from requests<3,>=2.27->streamlit) (2025.4.26)\n",
            "Requirement already satisfied: smmap<6,>=3.0.1 in /usr/local/lib/python3.11/dist-packages (from gitdb<5,>=4.0.1->gitpython!=3.1.19,<4,>=3.0.7->streamlit) (5.0.2)\n",
            "Requirement already satisfied: MarkupSafe>=2.0 in /usr/local/lib/python3.11/dist-packages (from jinja2->altair<6,>=4.0->streamlit) (3.0.2)\n",
            "Requirement already satisfied: attrs>=22.2.0 in /usr/local/lib/python3.11/dist-packages (from jsonschema>=3.0->altair<6,>=4.0->streamlit) (25.3.0)\n",
            "Requirement already satisfied: jsonschema-specifications>=2023.03.6 in /usr/local/lib/python3.11/dist-packages (from jsonschema>=3.0->altair<6,>=4.0->streamlit) (2025.4.1)\n",
            "Requirement already satisfied: referencing>=0.28.4 in /usr/local/lib/python3.11/dist-packages (from jsonschema>=3.0->altair<6,>=4.0->streamlit) (0.36.2)\n",
            "Requirement already satisfied: rpds-py>=0.7.1 in /usr/local/lib/python3.11/dist-packages (from jsonschema>=3.0->altair<6,>=4.0->streamlit) (0.24.0)\n",
            "Requirement already satisfied: six>=1.5 in /usr/local/lib/python3.11/dist-packages (from python-dateutil>=2.8.2->pandas<3,>=1.4.0->streamlit) (1.17.0)\n",
            "Downloading streamlit-1.45.1-py3-none-any.whl (9.9 MB)\n",
            "\u001b[2K   \u001b[90m━━━━━━━━━━━━━━━━━━━━━━━━━━━━━━━━━━━━━━━━\u001b[0m \u001b[32m9.9/9.9 MB\u001b[0m \u001b[31m26.6 MB/s\u001b[0m eta \u001b[36m0:00:00\u001b[0m\n",
            "\u001b[?25hDownloading pypdf2-3.0.1-py3-none-any.whl (232 kB)\n",
            "\u001b[2K   \u001b[90m━━━━━━━━━━━━━━━━━━━━━━━━━━━━━━━━━━━━━━━━\u001b[0m \u001b[32m232.6/232.6 kB\u001b[0m \u001b[31m4.8 MB/s\u001b[0m eta \u001b[36m0:00:00\u001b[0m\n",
            "\u001b[?25hDownloading pydeck-0.9.1-py2.py3-none-any.whl (6.9 MB)\n",
            "\u001b[2K   \u001b[90m━━━━━━━━━━━━━━━━━━━━━━━━━━━━━━━━━━━━━━━━\u001b[0m \u001b[32m6.9/6.9 MB\u001b[0m \u001b[31m14.6 MB/s\u001b[0m eta \u001b[36m0:00:00\u001b[0m\n",
            "\u001b[?25hDownloading watchdog-6.0.0-py3-none-manylinux2014_x86_64.whl (79 kB)\n",
            "\u001b[2K   \u001b[90m━━━━━━━━━━━━━━━━━━━━━━━━━━━━━━━━━━━━━━━━\u001b[0m \u001b[32m79.1/79.1 kB\u001b[0m \u001b[31m3.1 MB/s\u001b[0m eta \u001b[36m0:00:00\u001b[0m\n",
            "\u001b[?25hInstalling collected packages: watchdog, PyPDF2, pydeck, streamlit\n",
            "Successfully installed PyPDF2-3.0.1 pydeck-0.9.1 streamlit-1.45.1 watchdog-6.0.0\n"
          ]
        }
      ],
      "source": [
        "!pip install streamlit PyPDF2"
      ]
    },
    {
      "cell_type": "code",
      "execution_count": null,
      "metadata": {
        "colab": {
          "base_uri": "https://localhost:8080/"
        },
        "id": "We1QCXDFee2H",
        "outputId": "2025a0e7-90c9-4d27-8819-4139d4941baf"
      },
      "outputs": [
        {
          "output_type": "stream",
          "name": "stdout",
          "text": [
            "Collecting fpdf\n",
            "  Downloading fpdf-1.7.2.tar.gz (39 kB)\n",
            "  Preparing metadata (setup.py) ... \u001b[?25l\u001b[?25hdone\n",
            "Building wheels for collected packages: fpdf\n",
            "  Building wheel for fpdf (setup.py) ... \u001b[?25l\u001b[?25hdone\n",
            "  Created wheel for fpdf: filename=fpdf-1.7.2-py2.py3-none-any.whl size=40704 sha256=92e2479a33a53a65db100c6a50974d508b4c9e004f1d21e74199bfa6cf20eee3\n",
            "  Stored in directory: /root/.cache/pip/wheels/65/4f/66/bbda9866da446a72e206d6484cd97381cbc7859a7068541c36\n",
            "Successfully built fpdf\n",
            "Installing collected packages: fpdf\n",
            "Successfully installed fpdf-1.7.2\n"
          ]
        }
      ],
      "source": [
        "!pip install fpdf"
      ]
    },
    {
      "cell_type": "code",
      "execution_count": null,
      "metadata": {
        "colab": {
          "base_uri": "https://localhost:8080/"
        },
        "id": "n2UalrlSMSLL",
        "outputId": "18709e0c-de20-42e8-b6c7-dcc20cc0063b"
      },
      "outputs": [
        {
          "output_type": "stream",
          "name": "stdout",
          "text": [
            "Writing app.py\n"
          ]
        }
      ],
      "source": [
        "%%writefile app.py\n",
        "import streamlit as st\n",
        "import requests\n",
        "import PyPDF2\n",
        "from fpdf import FPDF\n",
        "import io\n",
        "\n",
        "# ---------- UI Style ----------\n",
        "st.markdown(\"\"\"\n",
        "    <style>\n",
        "    /* Page background */\n",
        "    [data-testid=\"stAppViewContainer\"] {\n",
        "        background: radial-gradient(circle at center, #e2d0ff, #a495ff);\n",
        "\n",
        "        background-attachment: fixed;\n",
        "        background-size: cover;\n",
        "        min-height: 100vh;\n",
        "        padding: 2rem;\n",
        "    }\n",
        "\n",
        "    /* Main content card */\n",
        "    .main {\n",
        "        background: rgba(255, 255, 255, 0.85);\n",
        "        padding: 2rem;\n",
        "        border-radius: 15px;\n",
        "        max-width: 900px;\n",
        "        margin: 2rem auto;\n",
        "        box-shadow: 0px 4px 30px rgba(0,0,0,0.15);\n",
        "        backdrop-filter: blur(10px);\n",
        "        -webkit-backdrop-filter: blur(10px);\n",
        "    }\n",
        "\n",
        "    h1, h2, h3 {\n",
        "        color: #222; /* Slightly softer than black for readability */\n",
        "        text-align: center;\n",
        "    }\n",
        "\n",
        "    .stFileUploader, .stButton > button {\n",
        "        border-radius: 10px;\n",
        "        font-size: 1rem;\n",
        "    }\n",
        "\n",
        "    .stButton > button {\n",
        "        background-color: #313939d9;\n",
        "        color: white;\n",
        "        padding: 0.5rem 1rem;\n",
        "        border: none;\n",
        "        font-weight: 500;\n",
        "        transition: background 0.3s ease;\n",
        "    }\n",
        "\n",
        "    .stButton > button:hover {\n",
        "        background-color: #222c2cd9;\n",
        "    }\n",
        "\n",
        "    /* Transparent card for extracted/generated text */\n",
        "    .transparent-card {\n",
        "        background: rgba(255, 255, 255, 0.75);\n",
        "        border-radius: 12px;\n",
        "        padding: 1.5rem;\n",
        "        margin-top: 1.5rem;\n",
        "        box-shadow: 0 4px 20px rgba(0, 0, 0, 0.1);\n",
        "        backdrop-filter: blur(6px);\n",
        "        -webkit-backdrop-filter: blur(6px);\n",
        "        color: #1a1a1a;\n",
        "    }\n",
        "    </style>\n",
        "\"\"\", unsafe_allow_html=True)\n",
        "\n",
        "\n",
        "#         background: linear-gradient(135deg, #001e53, #68027d, #247764, #00809d);\n",
        "\n",
        "\n",
        "st.title(\"📚 AI PDF Assistant\")\n",
        "st.markdown(\"Upload academic PDFs and generate **notes, quiz questions**, or **flashcards** using AI!\")\n",
        "\n",
        "uploaded_file = st.file_uploader(\"Upload PDF\", type=\"pdf\")\n",
        "\n",
        "# API\n",
        "API_KEY = \" \"\n",
        "headers = {\n",
        "    \"Authorization\": f\"Bearer {API_KEY}\",\n",
        "    \"HTTP-Referer\": \" \",\n",
        "    \"Content-Type\": \"application/json\"\n",
        "}\n",
        "\n",
        "# Feature Selectors\n",
        "output_type = st.selectbox(\"Select Output Type\", [\"Notes\", \"Quiz Questions\", \"Flashcards\"])\n",
        "page_range = st.text_input(\"Optional: Page Range (e.g., 1-3)\", \"\")\n",
        "\n",
        "# PDF Text Extraction\n",
        "def extract_text(pdf, page_range_input=\"\"):\n",
        "    reader = PyPDF2.PdfReader(pdf)\n",
        "    pages = reader.pages\n",
        "\n",
        "    try:\n",
        "        if page_range_input:\n",
        "            start, end = map(int, page_range_input.split('-'))\n",
        "            selected_pages = range(start-1, end)\n",
        "        else:\n",
        "            selected_pages = range(len(pages))\n",
        "    except:\n",
        "        selected_pages = range(len(pages))\n",
        "\n",
        "    text = \"\"\n",
        "    for i in selected_pages:\n",
        "        text += pages[i].extract_text() or \"\"\n",
        "    return text.replace(\"\\n\", \" \").strip()[:12000]\n",
        "\n",
        "# Get AI Output\n",
        "def get_output(text, style):\n",
        "    instruction_map = {\n",
        "        \"Notes\": \"Summarize into clear study notes:\",\n",
        "        \"Quiz Questions\": \"Create quiz questions from this text:\",\n",
        "        \"Flashcards\": \"Generate flashcards (Q/A style) from the content:\"\n",
        "    }\n",
        "\n",
        "    payload = {\n",
        "        \"model\": \"tngtech/deepseek-r1t-chimera:free\",\n",
        "        \"messages\": [\n",
        "            {\"role\": \"system\", \"content\": \"You are a helpful academic assistant.\"},\n",
        "            {\"role\": \"user\", \"content\": f\"{instruction_map[style]}\\n\\n{text}\"}\n",
        "        ],\n",
        "        \"temperature\": 0.5\n",
        "    }\n",
        "\n",
        "    url = \"https://openrouter.ai/api/v1/chat/completions\"\n",
        "    response = requests.post(url, headers=headers, json=payload)\n",
        "    return response.json()[\"choices\"][0][\"message\"][\"content\"]\n",
        "\n",
        "\n",
        "# Main Processing\n",
        "if uploaded_file:\n",
        "    with st.spinner(\"📖 Reading PDF...\"):\n",
        "        extracted_text = extract_text(uploaded_file, page_range)\n",
        "        token_count = len(extracted_text.split())\n",
        "        st.success(f\"✅ Extracted ~{token_count} words\")\n",
        "\n",
        "        if token_count < 50:\n",
        "            st.error(\"Not enough text found. Please try a different page range or file.\")\n",
        "        else:\n",
        "            if st.button(\"⚙️ Generate Output\"):\n",
        "                with st.spinner(\"✍️ Generating from DeepSeek...\"):\n",
        "                    result = get_output(extracted_text, output_type)\n",
        "                    st.subheader(f\"📄 Generated {output_type}:\")\n",
        "                    st.markdown(f\"\"\"\n",
        "                    <div class=\"transparent-card\">\n",
        "                    <pre style='white-space: pre-wrap; word-wrap: break-word;'>{result}</pre>\n",
        "                    </div>\n",
        "                    \"\"\", unsafe_allow_html=True)\n",
        "\n",
        "\n",
        "\n",
        "                    # Download option\n",
        "                    file_type = st.selectbox(\"Download as\", [\"TXT\"])\n",
        "                    if file_type == \"TXT\":\n",
        "                        ext = \"txt\"\n",
        "                        file_content = result  # The generated content from the AI\n",
        "\n",
        "                    st.download_button(\n",
        "                        label=f\"💾 Download as {file_type}\",\n",
        "                        data=file_content,\n",
        "                        file_name=f\"{output_type.lower().replace(' ', '_')}.{ext}\",\n",
        "                        mime=\"text/plain\"  # Ensure it's recognized as a plain text file\n",
        "                    )\n",
        "\n",
        "\n",
        "st.markdown('</div>', unsafe_allow_html=True)\n"
      ]
    },
    {
      "cell_type": "code",
      "execution_count": null,
      "metadata": {
        "colab": {
          "base_uri": "https://localhost:8080/"
        },
        "id": "twtxjYwSm8VQ",
        "outputId": "9bdf2d9c-daae-465d-f35e-8bab74fbcff2"
      },
      "outputs": [
        {
          "output_type": "stream",
          "name": "stdout",
          "text": [
            "34.70.20.164"
          ]
        }
      ],
      "source": [
        "!curl ifconfig.me"
      ]
    },
    {
      "cell_type": "code",
      "execution_count": null,
      "metadata": {
        "colab": {
          "base_uri": "https://localhost:8080/"
        },
        "id": "qH_MkyNVm7sS",
        "outputId": "81b863eb-6560-4cba-ea8c-bb61f3ae88ab"
      },
      "outputs": [
        {
          "output_type": "stream",
          "name": "stdout",
          "text": [
            "\u001b[1G\u001b[0K⠙\u001b[1G\u001b[0K⠹\n",
            "Collecting usage statistics. To deactivate, set browser.gatherUsageStats to false.\n",
            "\u001b[0m\n",
            "\u001b[1G\u001b[0K⠸\u001b[1G\u001b[0K⠼\u001b[1G\u001b[0K⠴\u001b[1G\u001b[0K⠦\u001b[1G\u001b[0K⠧\u001b[1G\u001b[0K⠇\u001b[1G\u001b[0K\u001b[1G\u001b[0JNeed to install the following packages:\n",
            "localtunnel@2.0.2\n",
            "Ok to proceed? (y) \u001b[20G\u001b[0m\n",
            "\u001b[34m\u001b[1m  You can now view your Streamlit app in your browser.\u001b[0m\n",
            "\u001b[0m\n",
            "\u001b[34m  Local URL: \u001b[0m\u001b[1mhttp://localhost:8501\u001b[0m\n",
            "\u001b[34m  Network URL: \u001b[0m\u001b[1mhttp://172.28.0.12:8501\u001b[0m\n",
            "\u001b[34m  External URL: \u001b[0m\u001b[1mhttp://34.70.20.164:8501\u001b[0m\n",
            "\u001b[0m\n",
            "y\n",
            "\n",
            "\u001b[1G\u001b[0K⠙\u001b[1G\u001b[0K⠹\u001b[1G\u001b[0K⠸\u001b[1G\u001b[0K⠼\u001b[1G\u001b[0K⠴\u001b[1G\u001b[0K⠦\u001b[1G\u001b[0K⠧\u001b[1G\u001b[0K⠇\u001b[1G\u001b[0K⠏\u001b[1G\u001b[0K⠋\u001b[1G\u001b[0K⠙\u001b[1G\u001b[0K⠹\u001b[1G\u001b[0K⠸\u001b[1G\u001b[0K⠼\u001b[1G\u001b[0K⠴\u001b[1G\u001b[0K⠦\u001b[1G\u001b[0K⠧\u001b[1G\u001b[0K⠇\u001b[1G\u001b[0K⠏\u001b[1G\u001b[0K⠋\u001b[1G\u001b[0K⠙\u001b[1G\u001b[0K⠹\u001b[1G\u001b[0K⠸\u001b[1G\u001b[0K⠼\u001b[1G\u001b[0K⠴\u001b[1G\u001b[0K⠦\u001b[1G\u001b[0K⠧\u001b[1G\u001b[0Kyour url is: https://cuddly-doodles-raise.loca.lt\n",
            "\u001b[34m  Stopping...\u001b[0m\n",
            "^C\n"
          ]
        }
      ],
      "source": [
        "!streamlit run /content/app.py & npx localtunnel --port 8501"
      ]
    },
    {
      "cell_type": "code",
      "execution_count": null,
      "metadata": {
        "id": "rOJNAa5iAxVx"
      },
      "outputs": [],
      "source": [
        "!streamlit cache clear\n"
      ]
    }
  ],
  "metadata": {
    "colab": {
      "provenance": []
    },
    "kernelspec": {
      "display_name": "Python 3",
      "name": "python3"
    },
    "language_info": {
      "name": "python"
    }
  },
  "nbformat": 4,
  "nbformat_minor": 0
}